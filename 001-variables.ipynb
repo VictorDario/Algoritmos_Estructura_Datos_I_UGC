{
 "cells": [
  {
   "cell_type": "code",
   "execution_count": 1,
   "metadata": {},
   "outputs": [],
   "source": [
    "#-------------------------------------------------------------------------------\n",
    "#                         Universidad Global del Cusco\n",
    "#           Ingenieria en Tecnologias de Informacion y Comunicacion\n",
    "#\n",
    "# Curso:       Algoritmos y Estructuras de Datos\n",
    "# Tema:        Variables\n",
    "# Contenido:   Declaracion correcta e incorrecta devariables\n",
    "# Autor:       Ing. Victor Dario Sosa Jauregui\n",
    "# Copyright:   (c) VDSJ 2018\n",
    "# Licencia:    Creative Commons\n",
    "#-------------------------------------------------------------------------------"
   ]
  },
  {
   "cell_type": "code",
   "execution_count": 2,
   "metadata": {},
   "outputs": [],
   "source": [
    "mi_variable = 12    #Correcto"
   ]
  },
  {
   "cell_type": "code",
   "execution_count": 3,
   "metadata": {},
   "outputs": [],
   "source": [
    "MiVariable = 12     #Incorrecto\n",
    "mivariable = 12     #Incorrecto"
   ]
  },
  {
   "cell_type": "code",
   "execution_count": 4,
   "metadata": {},
   "outputs": [],
   "source": [
    "mi_variable=12      #Incorrecto\n",
    "mi_variable =   12  #Incorrecto"
   ]
  },
  {
   "cell_type": "code",
   "execution_count": 5,
   "metadata": {},
   "outputs": [],
   "source": [
    "#    PEP 8: variables\n",
    "#    Utilizar nombres descriptivos y en minusculas. Para nombres\n",
    "#    compuestos, separar las palabras por guiones bajos. Antes y\n",
    "#    despues del signo =, debe haber uno (y solo un) espacio en\n",
    "#    blanco"
   ]
  },
  {
   "cell_type": "code",
   "execution_count": null,
   "metadata": {},
   "outputs": [],
   "source": []
  }
 ],
 "metadata": {
  "kernelspec": {
   "display_name": "Python 3",
   "language": "python",
   "name": "python3"
  },
  "language_info": {
   "codemirror_mode": {
    "name": "ipython",
    "version": 3
   },
   "file_extension": ".py",
   "mimetype": "text/x-python",
   "name": "python",
   "nbconvert_exporter": "python",
   "pygments_lexer": "ipython3",
   "version": "3.6.3"
  }
 },
 "nbformat": 4,
 "nbformat_minor": 2
}
